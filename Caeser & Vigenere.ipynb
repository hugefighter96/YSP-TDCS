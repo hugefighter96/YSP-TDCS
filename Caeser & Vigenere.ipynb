{
 "cells": [
  {
   "cell_type": "markdown",
   "id": "de0d1953",
   "metadata": {},
   "source": [
    "Caeser Cipher"
   ]
  },
  {
   "cell_type": "code",
   "execution_count": 1,
   "id": "e22de8f8",
   "metadata": {},
   "outputs": [
    {
     "name": "stdout",
     "output_type": "stream",
     "text": [
      "[test] om: ABCDEFGHIJKLMNOPQRSTUVWXYZabcdefghijklmnopqrstuvwxyz@!@#\n",
      "[test] em: DEFGHIJKLMNOPQRSTUVWXYZABCdefghijklmnopqrstuvwxyzabc@!@#\n",
      "[test] dm: ABCDEFGHIJKLMNOPQRSTUVWXYZabcdefghijklmnopqrstuvwxyz@!@#\n"
     ]
    }
   ],
   "source": [
    "SHIFT_KEY = 3\n",
    "\n",
    "def encrypt(message):         \n",
    "    cipher=\"\"\n",
    "    for letter in message:\n",
    "        asciic=ord(letter)\n",
    "        if 97<=asciic<=122:\n",
    "            shifted=(asciic-97+SHIFT_KEY)%26+97\n",
    "            cipher+=chr(shifted)\n",
    "        elif 65<=asciic<=90:\n",
    "            shifted=(asciic-65+SHIFT_KEY)%26+65\n",
    "            cipher+=chr(shifted)\n",
    "        else:\n",
    "            cipher+=letter\n",
    "    return cipher\n",
    "\n",
    "def decrypt(message):\n",
    "    decrypted=\"\"\n",
    "    for letter in message:\n",
    "        asciic=ord(letter)\n",
    "        if 97<=asciic<=122:\n",
    "            shifted=(asciic-97-SHIFT_KEY)%26+97\n",
    "            decrypted+=chr(shifted)\n",
    "        elif 65<=asciic<=90:\n",
    "            shifted=(asciic-65-SHIFT_KEY)%26+65\n",
    "            decrypted+=chr(shifted)\n",
    "        else:\n",
    "            decrypted+=letter\n",
    "    return decrypted\n",
    "\n",
    "    \n",
    "\n",
    "def test():\n",
    "    om = \"ABCDEFGHIJKLMNOPQRSTUVWXYZabcdefghijklmnopqrstuvwxyz@!@#\"\n",
    "    print(\"[test] om:\", om)\n",
    "\n",
    "    em = encrypt(om)\n",
    "    print(\"[test] em:\", em)\n",
    "\n",
    "    dm = decrypt(em)\n",
    "    print(\"[test] dm:\", dm)\n",
    "\n",
    "if __name__ == \"__main__\":\n",
    "    test()\n"
   ]
  },
  {
   "cell_type": "markdown",
   "id": "d8b659b2",
   "metadata": {},
   "source": [
    "Vigenere"
   ]
  },
  {
   "cell_type": "code",
   "execution_count": 19,
   "id": "4317c9f7",
   "metadata": {},
   "outputs": [
    {
     "name": "stdout",
     "output_type": "stream",
     "text": [
      "Original Message: ABCDEFGHIJKLMNOPQRSTUVWXYZabcdefghijklmnopqrstuvwxyz@!@#\n",
      "Encrypted Message: TEEVXIIZBMMDFQQHJUULNYYPRCctvggxzkkbdoofhssjlwwnpaar@!@#\n",
      "Decrypted Message: ABCDEFGHIJKLMNOPQRSTUVWXYZabcdefghijklmnopqrstuvwxyz@!@#\n"
     ]
    }
   ],
   "source": [
    "shiftv=\"TDCS\"\n",
    "def encryptv(messagev,shiftv):\n",
    "    encrypted = \"\"\n",
    "    index = 0\n",
    "    shiftv = shiftv.lower()\n",
    "\n",
    "    for letter in messagev:\n",
    "        asciico = ord(letter)\n",
    "        if 97 <= asciico <= 122:\n",
    "            shift = ord(shiftv[index % len(shiftv)]) - 97\n",
    "            shifted = (asciico - 97 + shift) % 26 + 97\n",
    "            encrypted += chr(shifted)\n",
    "            index += 1\n",
    "        elif 65 <= asciico <= 90:\n",
    "            shift = ord(shiftv[index % len(shiftv)]) - 97\n",
    "            shifted = (asciico - 65 + shift) % 26 + 65\n",
    "            encrypted += chr(shifted)\n",
    "            index += 1\n",
    "        else:\n",
    "            encrypted += letter\n",
    "    return encrypted\n",
    "\n",
    "def decryptvig(messagevig,shiftv):\n",
    "    decryptedvig = \"\"\n",
    "    kindex = 0\n",
    "    shiftv = shiftv.lower()\n",
    "\n",
    "    for char in messagevig:\n",
    "        acode = ord(char)\n",
    "        if 97 <= acode <= 122:\n",
    "            shift = ord(shiftv[kindex % len(shiftv)]) - 97\n",
    "            shifted = (acode - 97 - shift) % 26 + 97\n",
    "            decryptedvig += chr(shifted)\n",
    "            kindex += 1\n",
    "        elif 65 <= acode <= 90:\n",
    "            shift = ord(shiftv[kindex % len(shiftv)]) - 97\n",
    "            shifted = (acode - 65 - shift) % 26 + 65\n",
    "            decryptedvig += chr(shifted)\n",
    "            kindex += 1\n",
    "        else:\n",
    "            decryptedvig += char\n",
    "    return decryptedvig\n",
    "\n",
    "def testvig():\n",
    "    orgmess = \"ABCDEFGHIJKLMNOPQRSTUVWXYZabcdefghijklmnopqrstuvwxyz@!@#\"\n",
    "    print(\"Original Message: \"+orgmess)\n",
    "    enmess=encryptv(orgmess,shiftv)\n",
    "    print(\"Encrypted Message: \"+enmess)\n",
    "    decmess=decryptvig(enmess,shiftv)\n",
    "    print(\"Decrypted Message: \"+decmess)\n",
    "\n",
    "if __name__ == \"__main__\":\n",
    "    testvig()\n"
   ]
  }
 ],
 "metadata": {
  "kernelspec": {
   "display_name": ".venv",
   "language": "python",
   "name": "python3"
  },
  "language_info": {
   "codemirror_mode": {
    "name": "ipython",
    "version": 3
   },
   "file_extension": ".py",
   "mimetype": "text/x-python",
   "name": "python",
   "nbconvert_exporter": "python",
   "pygments_lexer": "ipython3",
   "version": "3.12.10"
  }
 },
 "nbformat": 4,
 "nbformat_minor": 5
}
