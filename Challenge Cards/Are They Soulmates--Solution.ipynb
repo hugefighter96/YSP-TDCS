{
 "cells": [
  {
   "cell_type": "markdown",
   "id": "398d8bc2",
   "metadata": {},
   "source": [
    "## Are They Soulmates?\n",
    "\n",
    "### Difficulty Level: Medium\n",
    "\n",
    "### Instructions\n",
    "You are given names of two people (your function inputs). Your task is to determine if their relationship is “magical.” A magical bond exists if the string formed by combining both names (ignoring spaces and cases- account for these using appropriate python functions) reads the same forwards and backwards.\n",
    "**Example**:\n",
    " Input: \"Anna\" and \"N a n a\" → Output: “Magical!”\n",
    " (\"annanana\" reversed is the same)\n",
    "\n",
    "\n"
   ]
  },
  {
   "cell_type": "code",
   "execution_count": null,
   "id": "30bb68d7",
   "metadata": {},
   "outputs": [
    {
     "name": "stdout",
     "output_type": "stream",
     "text": [
      "annaanna\n",
      "Magical!\n"
     ]
    }
   ],
   "source": [
    "#ANS\n",
    "def magical(name1,name2):\n",
    "    a=name1.lower()\n",
    "    b=name2.lower()\n",
    "    c=a+b\n",
    "    revc=\"\"\n",
    "    for char in c:\n",
    "        revc=char+revc\n",
    "    if revc==c:\n",
    "        print(\"Magical!\")\n",
    "    else:\n",
    "        print(\"Not Magical!\")\n",
    "\n",
    "n1=input(\"Enter First Name:\")\n",
    "n2=input(\"Enter Second Name:\")\n",
    "magical(n1,n2)"
   ]
  }
 ],
 "metadata": {
  "kernelspec": {
   "display_name": ".venv",
   "language": "python",
   "name": "python3"
  },
  "language_info": {
   "codemirror_mode": {
    "name": "ipython",
    "version": 3
   },
   "file_extension": ".py",
   "mimetype": "text/x-python",
   "name": "python",
   "nbconvert_exporter": "python",
   "pygments_lexer": "ipython3",
   "version": "3.13.3"
  }
 },
 "nbformat": 4,
 "nbformat_minor": 5
}
