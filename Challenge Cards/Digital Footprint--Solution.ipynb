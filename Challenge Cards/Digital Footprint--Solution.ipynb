{
 "cells": [
  {
   "cell_type": "markdown",
   "id": "b4effe72",
   "metadata": {},
   "source": [
    "## Digital Footprint\n",
    "\n",
    "### Difficulty Level: Easy\n",
    "\n",
    "### Instructions\n",
    "Look up what digital footprints are. Do a backtracking and identify where all you left digital footprints. Think about how a digital footprint works. You search something on amazon and the ad for the same product appears on instagram or youtube, how?"
   ]
  },
  {
   "cell_type": "markdown",
   "id": "9b54a4ca",
   "metadata": {},
   "source": [
    "ANS:\n",
    "According to me, a digital footprint is the data you leave behind when using the internet for tasks like searches, clicks, or online purchases.\n",
    "\n",
    "I think I left my digital footprint when I searched about a book on Harry Potter on Amazon and then I start seeing ads on it on google and various other sites.\n",
    "\n",
    "I think it happens because sites track your activity using cookies and share data with other sites."
   ]
  }
 ],
 "metadata": {
  "language_info": {
   "name": "python"
  }
 },
 "nbformat": 4,
 "nbformat_minor": 5
}
