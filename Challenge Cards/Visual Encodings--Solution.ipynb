{
 "cells": [
  {
   "cell_type": "markdown",
   "id": "fd8a3223",
   "metadata": {},
   "source": [
    "## Visual Encodings\n",
    "\n",
    "### Difficulty Level: Easy\n",
    "\n",
    "### Instructions\n",
    "Look up what Steganography is and think about how it is different from encryption. Share your thoughts. Play with this [site](https://stylesuxx.github.io/steganography/) and share your understanding of what's happening. \n",
    "\n",
    "1. How does the information get encrypted in a file? Can we use any file format? Try with all that you can.\n",
    "2. How does it get decrypted?\n",
    "3. What does the binary representation of a message mean? Why are you provided with it?\n",
    "\n",
    "\n"
   ]
  },
  {
   "cell_type": "markdown",
   "id": "848f9296",
   "metadata": {},
   "source": [
    "ANS.\n",
    "\n",
    "As per my research, steganography is the technique of hiding a message within another file, such as an image, so that it is invisible to the normal eye. Encryption, on the other hand, transforms a message into unreadable code to protect its content. While encryption secures a message from being read, steganography hides that a message exists at all.\n",
    "\n",
    "Using the online steganography tool, you can type a secret message and hide it inside an image file. This is done by slightly altering the image’s pixel data—specifically the least significant bits. PNG files work best because they don’t compress the image in a way that would destroy the hidden message. Other formats like JPG usually don’t work due to compression.\n",
    "\n",
    "To decrypt the message, you upload the same image. The tool then extracts the hidden bits and reconstructs the original message.\n",
    "\n",
    "The binary version of the message shows its form in 1s and 0s. This helps illustrate how the message is stored at the lowest data level and why even small messages require a lot of image space to be hidden."
   ]
  }
 ],
 "metadata": {
  "language_info": {
   "name": "python"
  }
 },
 "nbformat": 4,
 "nbformat_minor": 5
}
