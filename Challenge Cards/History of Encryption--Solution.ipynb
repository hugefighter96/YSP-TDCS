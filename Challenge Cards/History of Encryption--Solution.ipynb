{
 "cells": [
  {
   "cell_type": "markdown",
   "id": "c9c0843c",
   "metadata": {},
   "source": [
    "## History of Encryption\n",
    "\n",
    "### Difficulty Level: Easy\n",
    "\n",
    "### Instructions\n",
    "Encryption goes way back in history. Much before computers were invented. Read up about the history of encryption and cryptography and the various ways of encrypting messages in different periods of time. How good or bad were they as compared to what we have today?\n"
   ]
  },
  {
   "cell_type": "markdown",
   "id": "e0fc1065",
   "metadata": {},
   "source": [
    "ANS.\n",
    "\n",
    "Encryption has been used for thousands of years. One of the earliest examples is the Caesar Cipher (about which we discussed in class), which shifted letters by a fixed number to hide messages. Ancient Greeks used tools like the Scytale, where a strip of text could only be read when wrapped around a specific stick.\n",
    "\n",
    "In the Middle Ages, the Vigenère Cipher (mentioned in class) used a keyword to make letter shifts harder to detect. It remained strong for centuries until it was eventually cracked. During World War II, the Germans used the Enigma machine, which created complex codes. It was eventually broken by Allied codebreakers, including Alan Turing.\n",
    "\n",
    "Compared to today’s encryption like AES or RSA, these older methods were simple and can now be easily broken with modern computers. Today’s encryption is much stronger, based on complex math and used to protect digital communication worldwide."
   ]
  }
 ],
 "metadata": {
  "language_info": {
   "name": "python"
  }
 },
 "nbformat": 4,
 "nbformat_minor": 5
}
