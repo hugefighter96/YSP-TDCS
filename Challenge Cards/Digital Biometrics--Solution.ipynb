{
 "cells": [
  {
   "cell_type": "markdown",
   "id": "2b30c4d1",
   "metadata": {},
   "source": [
    "## Digital Biometrics\n",
    "\n",
    "### Difficulty Level: Easy\n",
    "\n",
    "### Instructions\n",
    "What is biometric data? What forms of it do you use every day without realizing?\n",
    "Where is your data going — stored locally on device, or uploaded to a server?\n",
    "What’s the biggest risk if biometric data is leaked? (Hint: you can change your password, but not your face.)\n",
    "Look into one real-world incident (e.g., Aadhaar biometric leak, Clearview AI, etc.) and write a 2–3 line summary of what happened.\n",
    "\n"
   ]
  },
  {
   "cell_type": "markdown",
   "id": "da894366",
   "metadata": {},
   "source": [
    "ANS:\n",
    "\n",
    "Biometric data is individual physical or behavioral characteristics used to recognize individuals. Examples include fingerprints, facial recognition, voice patterns, and even your typing or walking pattern.\n",
    "\n",
    "Everyday use examples include using a fingerprint or face scan to unlock your phone, facial recognition for pictures, or voice assistants such as Siri and Alexa.\n",
    "\n",
    "Where is this data stored?\n",
    "It varies with the system. Most smartphones (such as iPhones) save biometric information locally within a secure chip. A few apps or services save this information to cloud servers, raising privacy concerns.\n",
    "\n",
    "Highest risk if compromised:\n",
    "Biometric information is unchangeable — you can update a password, but you cannot alter your face or fingerprints. Leaked, it can be used for identity theft or unauthorized tracking with lifetime repercussions.\n",
    "\n",
    "Real-life incident:\n",
    "In 2018, a report came out that the online access to India's Aadhaar database (which contains fingerprints and iris scans of more than a billion individuals) was for sale for as cheap as $7.\n"
   ]
  }
 ],
 "metadata": {
  "kernelspec": {
   "display_name": ".venv",
   "language": "python",
   "name": "python3"
  },
  "language_info": {
   "name": "python",
   "version": "3.13.3"
  }
 },
 "nbformat": 4,
 "nbformat_minor": 5
}
