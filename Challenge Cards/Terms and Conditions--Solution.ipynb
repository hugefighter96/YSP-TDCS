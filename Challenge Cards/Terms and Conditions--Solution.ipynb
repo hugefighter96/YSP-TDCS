{
 "cells": [
  {
   "cell_type": "markdown",
   "id": "ad017250",
   "metadata": {},
   "source": [
    "## Terms and Conditions\n",
    "\n",
    "### Difficulty Level: Easy\n",
    "\n",
    "### Instructions\n",
    "For your favourite or most-used website/app, read the T&C and Privacy Policies. Identify what all data they are collecting about you, why they are interested in the data, and whether you should care about it. \n",
    "\n",
    "### Resources\n",
    "Home Page - ToS;DR Terms of service; Didn’t read : provides info on the tracking habits of different websites in short. Can give this to students who successfully solve this challenge card. \n",
    "\n"
   ]
  },
  {
   "cell_type": "markdown",
   "id": "4b8155ec",
   "metadata": {},
   "source": [
    "ANS.\n",
    "\n",
    "I mainly use X (formerly Twitter), which collects my name, email, phone number, tweets, likes, followers, and how I interact on the platform. It also tracks my device info, IP address, and location. This data is used to personalize my feed and ads shown to me.\n",
    "\n",
    "I don't care much about it because it's providing me free access without doing any harm to me. As long as this free use is maintained, I am not bothered by it collecting my data."
   ]
  }
 ],
 "metadata": {
  "language_info": {
   "name": "python"
  }
 },
 "nbformat": 4,
 "nbformat_minor": 5
}
