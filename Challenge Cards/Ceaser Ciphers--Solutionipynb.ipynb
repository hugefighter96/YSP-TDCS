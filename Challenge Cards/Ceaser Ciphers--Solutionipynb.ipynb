{
 "cells": [
  {
   "cell_type": "markdown",
   "id": "cfa11d01",
   "metadata": {},
   "source": [
    "## Understanding Caesar Ciphers\n",
    "\n",
    "### Difficulty Level: Easy\n",
    "\n",
    "### Instructions\n",
    "You’ve been hired to help a robot design a welcome banner using only letters and ASCII codes.\n",
    "Your task is to write a function that:\n",
    "Takes a word as input (e.g., \"HELLO\").\n",
    "\n",
    "Converts each letter into its **ASCII value** using ord().\n",
    "\n",
    "Then, **shifts** each ASCII value by +1 and prints the new character using chr().\n",
    "**Input**:  \"DOG\"\n",
    "**Output**: \"EPH\"  # 'D' → 68 → 69 → 'E', and so on\n",
    "**Extension**: Can you recover the initial message?\n",
    "\n"
   ]
  },
  {
   "cell_type": "code",
   "execution_count": 11,
   "id": "0ea7e95c",
   "metadata": {},
   "outputs": [
    {
     "name": "stdout",
     "output_type": "stream",
     "text": [
      "EPH\n"
     ]
    }
   ],
   "source": [
    "#ANS\n",
    "def cc(word):\n",
    "    result = \"\"\n",
    "    for char in word:\n",
    "        asciiv = ord(char)\n",
    "        shifted = asciiv + 1\n",
    "        newchar = chr(shifted)\n",
    "        result += newchar\n",
    "    print(result)\n",
    "\n",
    "cc(input(\"Enter word:\"))\n"
   ]
  },
  {
   "cell_type": "code",
   "execution_count": 12,
   "id": "8250336a",
   "metadata": {},
   "outputs": [
    {
     "name": "stdout",
     "output_type": "stream",
     "text": [
      "DOG\n"
     ]
    }
   ],
   "source": [
    "#EXTENSION ANS\n",
    "def cc(word):\n",
    "    result = \"\"\n",
    "    for char in word:\n",
    "        asciiv = ord(char)\n",
    "        shifted = asciiv -1\n",
    "        newchar = chr(shifted)\n",
    "        result += newchar\n",
    "    print(result)\n",
    "\n",
    "cc(input(\"Enter word:\"))\n"
   ]
  }
 ],
 "metadata": {
  "kernelspec": {
   "display_name": ".venv",
   "language": "python",
   "name": "python3"
  },
  "language_info": {
   "codemirror_mode": {
    "name": "ipython",
    "version": 3
   },
   "file_extension": ".py",
   "mimetype": "text/x-python",
   "name": "python",
   "nbconvert_exporter": "python",
   "pygments_lexer": "ipython3",
   "version": "3.13.3"
  }
 },
 "nbformat": 4,
 "nbformat_minor": 5
}
