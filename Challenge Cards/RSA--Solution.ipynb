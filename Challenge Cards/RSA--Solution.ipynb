{
 "cells": [
  {
   "cell_type": "markdown",
   "id": "6f2afdfd",
   "metadata": {},
   "source": [
    "## RSA Encryption\n",
    "\n",
    "### Difficulty Level: Hard\n",
    "\n",
    "### Instructions\n",
    "**Task A**: Write an algorithm that performs an RSA encryption of a message. Clearly state the invariants. (How should one go about decrpyting the message?)\n",
    "\n",
    "**Task B**: You have been given a message that is RSA encrypted. Write an algorithm that breaks it. Clearly state the invariants. (What did you observe?)\n",
    "\n",
    "**Task C**: How does an RSA differ from Diffie Hellman algorithm, or other algorithms, you learned in class?\n"
   ]
  },
  {
   "cell_type": "markdown",
   "id": "b8dd4654",
   "metadata": {},
   "source": [
    "ANS:\n",
    "from my research, I made the following algorithm:\n",
    "1. We first need to choose two prime numbers, let them be p and q.\n",
    "\n",
    "2. Find n = p * q.\n",
    "\n",
    "3. Find fie(n) = (p - 1) * (q - 1).\n",
    "\n",
    "4. Pick a number e such that 1 < e < fie(n) and e has no common factors with fie(n).\n",
    "\n",
    "5. Find d such that (d * e) mod fie(n) = 1.\n",
    "\n",
    "6. Public key is (e, n) and private key is (d, n).\n",
    "\n",
    "7. To encrypt a message, find c = (m^e) mod n. whre m=message\n",
    "\n",
    "8. To decrypt the ciphertext, find m = (c^d) mod n. where c=cipher text\n",
    "\n",
    "\n",
    "RSA is used for encrypting messages and creating digital signatures, whereas D-H is used for exchanging encryption keys over a public channel. \n",
    "\n",
    "RSA relies on the difficulty of factoring large numbers, whereas D-H is based on the difficulty of solving logs. \n",
    "\n",
    "In RSA, one generates a key pair (public and private), and others use the public key to send encrypted messages. D-H allows two to collaboratively generate a shared secret key without ever sending the actual key itself."
   ]
  }
 ],
 "metadata": {
  "language_info": {
   "name": "python"
  }
 },
 "nbformat": 4,
 "nbformat_minor": 5
}
