{
 "cells": [
  {
   "cell_type": "markdown",
   "id": "ccfa75d8",
   "metadata": {},
   "source": [
    "## 2-D Arrays Introduction\n",
    "\n",
    "### Difficulty Level: Easy\n",
    "\n",
    "### Instructions\n",
    "Your classroom has 3 rows and 4 columns of seats. The seating arrangement is stored in a 2-D list:\n",
    "\n",
    "seats = [\n",
    "  [\"Alice\", \"Bob\", \"Carol\", \"David\"],\n",
    "  [\"Eve\", \"Frank\", \"Grace\", \"Heidi\"],\n",
    "  [\"Ivan\", \"Judy\", \"Mallory\", \"Niaj\"]\n",
    "]\n",
    "\n",
    "1. Print the name of the student sitting in the **2nd row, 3rd column**\n",
    "2. Print all students in the **first row**\n",
    "3. Print the **entire chart**, one row per line\n",
    "4. Ask the user for a name and tell whether the student is **present** or **absent**\n"
   ]
  },
  {
   "cell_type": "code",
   "execution_count": 25,
   "id": "f0dd4f3d",
   "metadata": {},
   "outputs": [
    {
     "name": "stdout",
     "output_type": "stream",
     "text": [
      "Grace\n",
      "['Alice', 'Bob', 'Carol', 'David']\n",
      "['Alice', 'Bob', 'Carol', 'David']\n",
      "['Eve', 'Frank', 'Grace', 'Heidi']\n",
      "['Ivan', 'Judy', 'Mallory', 'Niaj']\n",
      "absent\n"
     ]
    }
   ],
   "source": [
    "#ANS.\n",
    "seats = [[\"Alice\", \"Bob\", \"Carol\", \"David\"],[\"Eve\", \"Frank\", \"Grace\", \"Heidi\"],[\"Ivan\", \"Judy\", \"Mallory\", \"Niaj\"]]\n",
    "\n",
    "#1\n",
    "print(seats[1][2])\n",
    "\n",
    "#2\n",
    "print(seats[0])\n",
    "\n",
    "#3\n",
    "for row in seats:\n",
    "    print(row)\n",
    "\n",
    "\n",
    "#4\n",
    "n=input(\"Enter name:\")\n",
    "def attendance(name):\n",
    "    for row in seats:\n",
    "        for seat in row:\n",
    "            if seat==n:\n",
    "                return(\"present\")\n",
    "            else:\n",
    "                return(\"absent\")\n",
    "\n",
    "print(attendance(n))"
   ]
  }
 ],
 "metadata": {
  "kernelspec": {
   "display_name": ".venv",
   "language": "python",
   "name": "python3"
  },
  "language_info": {
   "codemirror_mode": {
    "name": "ipython",
    "version": 3
   },
   "file_extension": ".py",
   "mimetype": "text/x-python",
   "name": "python",
   "nbconvert_exporter": "python",
   "pygments_lexer": "ipython3",
   "version": "3.13.3"
  }
 },
 "nbformat": 4,
 "nbformat_minor": 5
}
