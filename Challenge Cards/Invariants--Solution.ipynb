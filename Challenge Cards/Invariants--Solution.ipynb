{
 "cells": [
  {
   "cell_type": "markdown",
   "id": "fe8fa156",
   "metadata": {},
   "source": [
    "## Invariants\n",
    "\n",
    "### Difficulty Level: Hard\n",
    "\n",
    "### Instructions\n",
    "Understand what invariants are and identify the invariants of the very basic algorithms we are writing in the class. You can find the algorithms from the notebooks or challenge cards.\n"
   ]
  },
  {
   "cell_type": "markdown",
   "id": "7750113e",
   "metadata": {},
   "source": [
    "ANS:\n",
    "Invariants are a property that remains true throughout the program and remains unchanged, like inside a loop. They are important for ensuring the correctness of the code."
   ]
  },
  {
   "cell_type": "code",
   "execution_count": null,
   "id": "43e7ea38",
   "metadata": {},
   "outputs": [],
   "source": [
    "sample code:\n",
    "def areas(a,b,choice):\n",
    "    if(choice==0):\n",
    "        arect=a*b\n",
    "        return(arect)\n",
    "    elif(choice==1):\n",
    "        acirc=3.14*a*a\n",
    "        return(acirc)\n",
    "    elif(choice==2):\n",
    "        atri=0.5*a*b\n",
    "        return(atri)\n",
    "\n",
    "print(areas(2,3,0))\n"
   ]
  },
  {
   "cell_type": "markdown",
   "id": "41802ed8",
   "metadata": {},
   "source": [
    "In the above code, the invariants are a,b, and choice as they remain unchanged throughout the program"
   ]
  }
 ],
 "metadata": {
  "language_info": {
   "name": "python"
  }
 },
 "nbformat": 4,
 "nbformat_minor": 5
}
