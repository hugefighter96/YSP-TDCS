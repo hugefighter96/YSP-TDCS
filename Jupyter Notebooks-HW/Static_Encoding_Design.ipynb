{
 "cells": [
  {
   "cell_type": "markdown",
   "id": "c1c1114a",
   "metadata": {},
   "source": [
    "# 🔐 Designing a 1-to-1 Encoding System\n",
    "\n",
    "## Objectives\n",
    "In this notebook, you will:\n",
    "- Understand the concept of a **encoding system**\n",
    "- Learn what makes an encoding **bijective** and **uniquely decodable**\n",
    "- Define your own encoding as a fixed mapping\n",
    "- Implement and test encoding/decoding logic\n",
    "\n",
    "> Unlike ciphers or randomized schemes, an **encoding** is a fixed, deterministic system like ASCII or Morse code.\n"
   ]
  },
  {
   "cell_type": "code",
   "execution_count": null,
   "id": "e752749f",
   "metadata": {},
   "outputs": [
    {
     "name": "stdout",
     "output_type": "stream",
     "text": [
      "Source Alphabet: ['A', 'B', 'C', 'D', 'E', 'F', 'G', 'H', 'I', 'J', 'K', 'L', 'M', 'N', 'O', 'P', 'Q', 'R', 'S', 'T', 'U', 'V', 'W', 'X', 'Y', 'Z']\n",
      "Target Alphabet: ['Z', 'Y', 'X', 'W', 'V', 'U', 'T', 'S', 'R', 'Q', 'P', 'O', 'N', 'M', 'L', 'K', 'J', 'I', 'H', 'G', 'F', 'E', 'D', 'C', 'B', 'A']\n"
     ]
    }
   ],
   "source": [
    "# Define the source and target alphabets\n",
    "import string\n",
    "\n",
    "source_alphabet = list(string.ascii_uppercase)\n",
    "# Example target: reversed alphabet (you can change this to your own fixed encoding)\n",
    "target_alphabet = list(reversed(source_alphabet))\n",
    "\n",
    "print(\"Source Alphabet:\", source_alphabet)\n",
    "print(\"Target Alphabet:\", target_alphabet)\n"
   ]
  },
  {
   "cell_type": "code",
   "execution_count": null,
   "id": "6151b986",
   "metadata": {},
   "outputs": [
    {
     "name": "stdout",
     "output_type": "stream",
     "text": [
      "Encoding Map: {'A': 'Z', 'B': 'Y', 'C': 'X', 'D': 'W', 'E': 'V', 'F': 'U', 'G': 'T', 'H': 'S', 'I': 'R', 'J': 'Q', 'K': 'P', 'L': 'O', 'M': 'N', 'N': 'M', 'O': 'L', 'P': 'K', 'Q': 'J', 'R': 'I', 'S': 'H', 'T': 'G', 'U': 'F', 'V': 'E', 'W': 'D', 'X': 'C', 'Y': 'B', 'Z': 'A'}\n"
     ]
    }
   ],
   "source": [
    "# Create and validate the encoding map\n",
    "\n",
    "def create_encoding_map(source, target):\n",
    "    if len(set(target)) != len(source):\n",
    "        raise ValueError(\"Target alphabet must be a bijective mapping (no repeats, full coverage).\")\n",
    "    return dict(zip(source, target))\n",
    "\n",
    "encoding_map = create_encoding_map(source_alphabet, target_alphabet)\n",
    "print(\"Encoding Map:\", encoding_map)"
   ]
  },
  {
   "cell_type": "code",
   "execution_count": null,
   "id": "3ed9bf78",
   "metadata": {},
   "outputs": [
    {
     "name": "stdout",
     "output_type": "stream",
     "text": [
      "Decoding Map: {'Z': 'A', 'Y': 'B', 'X': 'C', 'W': 'D', 'V': 'E', 'U': 'F', 'T': 'G', 'S': 'H', 'R': 'I', 'Q': 'J', 'P': 'K', 'O': 'L', 'N': 'M', 'M': 'N', 'L': 'O', 'K': 'P', 'J': 'Q', 'I': 'R', 'H': 'S', 'G': 'T', 'F': 'U', 'E': 'V', 'D': 'W', 'C': 'X', 'B': 'Y', 'A': 'Z'}\n"
     ]
    }
   ],
   "source": [
    "# Create decoding map by reversing the encoding map\n",
    "\n",
    "def create_decoding_map(encoding_map):\n",
    "    return {v: k for k, v in encoding_map.items()}\n",
    "\n",
    "decoding_map = create_decoding_map(encoding_map)\n",
    "print(\"Decoding Map:\", decoding_map)"
   ]
  },
  {
   "cell_type": "code",
   "execution_count": null,
   "id": "290c2c23",
   "metadata": {},
   "outputs": [
    {
     "name": "stdout",
     "output_type": "stream",
     "text": [
      "Original: HELLO WORLD\n",
      "Encoded : SVOOL DLIOW\n"
     ]
    }
   ],
   "source": [
    "# Define the encoding function\n",
    "\n",
    "def encode(message, encoding_map):\n",
    "    return ''.join(encoding_map.get(ch, ch) for ch in message.upper())\n",
    "\n",
    "message = \"HELLO WORLD\"\n",
    "encoded = encode(message, encoding_map)\n",
    "print(\"Original:\", message)\n",
    "print(\"Encoded :\", encoded)"
   ]
  },
  {
   "cell_type": "code",
   "execution_count": null,
   "id": "66732222",
   "metadata": {},
   "outputs": [
    {
     "name": "stdout",
     "output_type": "stream",
     "text": [
      "Decoded : HELLO WORLD\n"
     ]
    }
   ],
   "source": [
    "# Define the decoding function\n",
    "\n",
    "def decode(encoded_message, decoding_map):\n",
    "    return ''.join(decoding_map.get(ch, ch) for ch in encoded_message)\n",
    "\n",
    "decoded = decode(encoded, decoding_map)\n",
    "print(\"Decoded :\", decoded)"
   ]
  },
  {
   "cell_type": "code",
   "execution_count": null,
   "id": "4e451bfc",
   "metadata": {},
   "outputs": [
    {
     "name": "stdout",
     "output_type": "stream",
     "text": [
      "\n",
      "Encoding and decoding successful!\n"
     ]
    }
   ],
   "source": [
    "# Test if decoding(encoding(message)) == message.upper()\n",
    "if(decoded == message.upper()):\n",
    "    print(\"\\nEncoding and decoding successful!\")\n",
    "else:\n",
    "    \"Decoding failed!\"\n"
   ]
  },
  {
   "cell_type": "markdown",
   "id": "ecddf088",
   "metadata": {},
   "source": [
    "## 🧪 Your Turn!\n",
    "\n",
    "1. Modify `target_alphabet` to create your own fixed encoding.\n",
    "2. Ensure it’s a valid bijection (no duplicates, full mapping).\n",
    "3. Test it on a message of your choice.\n",
    "\n",
    "### Bonus Challenge:\n",
    "- Extend the encoding to include lowercase letters or digits.\n",
    "- Try using symbol substitution (e.g., A -> @, B -> #, etc.)."
   ]
  },
  {
   "cell_type": "code",
   "execution_count": 20,
   "id": "593397e8",
   "metadata": {},
   "outputs": [
    {
     "name": "stdout",
     "output_type": "stream",
     "text": [
      "Source Alphabet: ['A', 'B', 'C', 'D', 'E', 'F', 'G', 'H', 'I', 'J', 'K', 'L', 'M', 'N', 'O', 'P', 'Q', 'R', 'S', 'T', 'U', 'V', 'W', 'X', 'Y', 'Z']\n",
      "Target Alphabet: ['!', '@', '#', '$', '%', '^', '&', '*', '-', '_', '+', '=', '?', '>', '<', '1', '~', 'z', '7', '3', 'q', 'G', 'n', 'm', 'N', 'A']\n",
      "Encoding Map: {'A': '!', 'B': '@', 'C': '#', 'D': '$', 'E': '%', 'F': '^', 'G': '&', 'H': '*', 'I': '-', 'J': '_', 'K': '+', 'L': '=', 'M': '?', 'N': '>', 'O': '<', 'P': '1', 'Q': '~', 'R': 'z', 'S': '7', 'T': '3', 'U': 'q', 'V': 'G', 'W': 'n', 'X': 'm', 'Y': 'N', 'Z': 'A'}\n",
      "Decoding Map: {'!': 'A', '@': 'B', '#': 'C', '$': 'D', '%': 'E', '^': 'F', '&': 'G', '*': 'H', '-': 'I', '_': 'J', '+': 'K', '=': 'L', '?': 'M', '>': 'N', '<': 'O', '1': 'P', '~': 'Q', 'z': 'R', '7': 'S', '3': 'T', 'q': 'U', 'G': 'V', 'n': 'W', 'm': 'X', 'N': 'Y', 'A': 'Z'}\n",
      "Original: I am Nirvaan from Ahmedabad. I am currently in Ashoka. I am on Earth.\n",
      "Encoded : - !? >-zG!!> ^z<? !*?%$!@!$. - !? #qzz%>3=N -> !7*<+!. - !? <> %!z3*.\n",
      "Decoded : I AM NIRVAAN FROM AHMEDABAD. I AM CURRENTLY IN ASHOKA. I AM ON EARTH.\n",
      "\n",
      "Encoding and decoding successful!\n"
     ]
    }
   ],
   "source": [
    "# Define the source and target alphabets\n",
    "import string\n",
    "\n",
    "source_alphabet = list(string.ascii_uppercase)\n",
    "# Example target: reversed alphabet (you can change this to your own fixed encoding)\n",
    "target_alphabet = list(['!', '@', '#', '$', '%', '^', '&', '*', '-', '_', '+', '=', '?', '>', '<', '1', '~', 'z', '7', '3', 'q', 'G', 'n', 'm', 'N', 'A'])\n",
    "\n",
    "print(\"Source Alphabet:\", source_alphabet)\n",
    "print(\"Target Alphabet:\", target_alphabet)\n",
    "\n",
    "# Create and validate the encoding map\n",
    "\n",
    "def create_encoding_map(source, target):\n",
    "    if len(set(target)) != len(source):\n",
    "        raise ValueError(\"Target alphabet must be a bijective mapping (no repeats, full coverage).\")\n",
    "    return dict(zip(source, target))\n",
    "\n",
    "encoding_map = create_encoding_map(source_alphabet, target_alphabet)\n",
    "print(\"Encoding Map:\", encoding_map)\n",
    "\n",
    "# Create decoding map by reversing the encoding map\n",
    "\n",
    "def create_decoding_map(encoding_map):\n",
    "    return {v: k for k, v in encoding_map.items()}\n",
    "\n",
    "decoding_map = create_decoding_map(encoding_map)\n",
    "print(\"Decoding Map:\", decoding_map)\n",
    "\n",
    "# Define the encoding function\n",
    "\n",
    "def encode(message, encoding_map):\n",
    "    return ''.join(encoding_map.get(ch, ch) for ch in message.upper())\n",
    "\n",
    "message = \"I am Nirvaan from Ahmedabad. I am currently in Ashoka. I am on Earth.\"\n",
    "encoded = encode(message, encoding_map)\n",
    "print(\"Original:\", message)\n",
    "print(\"Encoded :\", encoded)\n",
    "\n",
    "# Define the decoding function\n",
    "\n",
    "def decode(encoded_message, decoding_map):\n",
    "    return ''.join(decoding_map.get(ch, ch) for ch in encoded_message)\n",
    "\n",
    "decoded = decode(encoded, decoding_map)\n",
    "print(\"Decoded :\", decoded)\n",
    "\n",
    "# Test if decoding(encoding(message)) == message.upper()\n",
    "if(decoded == message.upper()):\n",
    "    print(\"\\nEncoding and decoding successful!\")\n",
    "else:\n",
    "    \"Decoding failed!\""
   ]
  }
 ],
 "metadata": {
  "kernelspec": {
   "display_name": ".venv",
   "language": "python",
   "name": "python3"
  },
  "language_info": {
   "codemirror_mode": {
    "name": "ipython",
    "version": 3
   },
   "file_extension": ".py",
   "mimetype": "text/x-python",
   "name": "python",
   "nbconvert_exporter": "python",
   "pygments_lexer": "ipython3",
   "version": "3.13.3"
  }
 },
 "nbformat": 4,
 "nbformat_minor": 5
}
