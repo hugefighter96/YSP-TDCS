{
  "cells": [
    {
      "cell_type": "markdown",
      "metadata": {
        "id": "ZBvEClVHy8Ef"
      },
      "source": [
        "#Targeted Travel Ads#\n"
      ]
    },
    {
      "cell_type": "markdown",
      "metadata": {
        "id": "_cn-4hVczB4v"
      },
      "source": [
        "You have been recruited by a travel agency to advertise its travel plans to people who use the agency's partner websites.\n",
        "\n",
        "#Target Identification#\n",
        "\n",
        "The first step towards advertising is to know who you are advertising to. Suppose you have received a list of users of your partner websites who could be your target demographic.\n",
        "\n",
        "\n",
        "*   amuro1979\n",
        "*   zeta_kamille\n",
        "*   judauashta\n",
        "*   pilot4unicorn\n",
        "*   mafty\n",
        "\n",
        "Add these users to your target database using a 4-tuple to define (username, age, amount willing to spend on travel, continent they want to visit). Give them an identity here.\n",
        "\n"
      ]
    },
    {
      "cell_type": "code",
      "execution_count": 2,
      "metadata": {
        "id": "HpzbN3ESyVQQ"
      },
      "outputs": [
        {
          "name": "stdout",
          "output_type": "stream",
          "text": [
            "[('amuro1979', 17, 70000, 'Asia'), ('zeta_kamille', 15, 50000, 'Antarctica'), ('judauashta', 15, 90000, 'Europe'), ('pilot4unicorn', 34, 100000, 'North America'), ('mafty', 80, 20000, 'South America')]\n"
          ]
        }
      ],
      "source": [
        "targetusers = []\n",
        "targetusers.append((\"amuro1979\", 17, 70000, \"Asia\"))\n",
        "targetusers.append((\"zeta_kamille\", 15,50000,\"Antarctica\"))\n",
        "targetusers.append((\"judauashta\",15,90000,\"Europe\"))\n",
        "targetusers.append((\"pilot4unicorn\",34,100000,\"North America\"))\n",
        "targetusers.append((\"mafty\",80,20000,\"South America\"))\n",
        "\n",
        "print(targetusers)"
      ]
    },
    {
      "cell_type": "markdown",
      "metadata": {
        "id": "C8oyzA6s44Ie"
      },
      "source": [
        "# Interest Identification #\n",
        "\n",
        "**Note : You must have a knowledge of loops to be able to solve this question**\n",
        "\n",
        "Now that you have a list of people to target your ads towards, the next step is to understand whether this person fits the demographic you are capable of serving. The factors include but may not be limited to the following:\n",
        "\n",
        "*   You cannot sell travel plans to anyone below the age of 16.\n",
        "*   All trips will cost more than 50000, filter out those not willing to spend more than that amount.\n",
        "*   The travel agency would only want to target ads to those who want to go to either Asia, Europe, or North America\n",
        "\n",
        "\n",
        "\n",
        "Retrive each attribute of the users so that you can evaluate whether you can target ads towards them or not.\n",
        "\n",
        "🔧 Bonus: Delete those who do not fit the factors."
      ]
    },
    {
      "cell_type": "code",
      "execution_count": null,
      "metadata": {
        "id": "p8xykEAB43Kd"
      },
      "outputs": [
        {
          "name": "stdout",
          "output_type": "stream",
          "text": [
            "[('amuro1979', 17, 70000, 'Asia'), ('pilot4unicorn', 34, 100000, 'North America')]\n"
          ]
        }
      ],
      "source": [
        "valid_users = []\n",
        "\n",
        "for user in targetusers:\n",
        "    username, age, budget, continent = user\n",
        "    \n",
        "    if age >= 16 and budget > 50000 and continent in [\"Asia\", \"Europe\", \"North America\"]:\n",
        "        valid_users.append(user)\n",
        "\n",
        "print(valid_users)\n"
      ]
    },
    {
      "cell_type": "markdown",
      "metadata": {
        "id": "mrxCM4Cc8OMg"
      },
      "source": [
        "# Picking up keywords #\n",
        "\n",
        "Note : You must have knowledge of nested loops to solve this question\n",
        "\n",
        "By now you must have realised how many of the users from the initial list are actually targetable. However, if you start showing ads to them with such a shallow idea of them, they may not react to those ads positively. The precision of ads are crutial to their performance.\n",
        "\n",
        "The next step is to read your target's comments on your partner websites to understand your target better. Suppose your agency has a travel plan for Japan. You need to know if your target discusses Japanese culture, and whether it is in a positive or a negative light.\n",
        "\n",
        "‼️ Hints:\n",
        "*  A person may not mention Japan directly but could still be talking about it.\n",
        "\n",
        "*  Since we are only concerned with Japan at the moment, try to look past your target's negative opinions towards other things.\n",
        "\n",
        "*  To know whether your user is referring to topics of Japan. check for words from this list:\n"
      ]
    },
    {
      "cell_type": "code",
      "execution_count": null,
      "metadata": {
        "id": "7YA7HY3vAvJD"
      },
      "outputs": [],
      "source": [
        "Japan= [\"Japan\", \"Sushi\", \"Anime\", \"Tokyo\", \"Ramen\", \"Shinjuku\", \"Manga\", \"Tokusatsu\", \"Kyoto\", \"Hirohiko Araki\", \"Rumiko Takahashi\", \"Shinjuku\", \"Samurai\"]\n",
        "\n",
        "# We are only checking for one user as of now\n",
        "comments = [\"The samurai were so cool.\",\"I think sushi tastes very bad.\", \"I hate dancing.\",\"Tokyo must be a fun\",\"Anime is my life I swear.\"]"
      ]
    },
    {
      "cell_type": "code",
      "execution_count": null,
      "metadata": {
        "id": "U1Xj4pEotW4b"
      },
      "outputs": [
        {
          "name": "stdout",
          "output_type": "stream",
          "text": [
            "Comment: 'The samurai were so cool.' -> Tone: Positive\n",
            "Comment: 'I think sushi tastes very bad.' -> Tone: Negative\n",
            "Comment: 'Tokyo must be a fun' -> Tone: Positive\n",
            "Comment: 'Anime is my life I swear.' -> Tone: Positive\n"
          ]
        }
      ],
      "source": [
        "jap = [\"Japan\", \"Sushi\", \"Anime\", \"Tokyo\", \"Ramen\", \"Shinjuku\", \"Manga\", \"Tokusatsu\", \n",
        "       \"Kyoto\", \"Hirohiko Araki\", \"Rumiko Takahashi\", \"Samurai\"]\n",
        "\n",
        "com = [\n",
        "    \"The samurai were so cool.\",\n",
        "    \"I think sushi tastes very bad.\",\n",
        "    \"I hate dancing.\",\n",
        "    \"Tokyo must be a fun\",\n",
        "    \"Anime is my life I swear.\"\n",
        "]\n",
        "\n",
        "jap_kw = []\n",
        "for word in jap:\n",
        "    jap_kw.append(word.lower())\n",
        "\n",
        "neg = [\"hate\", \"bad\", \"disgust\", \"worst\", \"boring\"]\n",
        "\n",
        "japcom = []\n",
        "\n",
        "for c in com:\n",
        "    clow = c.lower()\n",
        "    found_japan = \"no\"\n",
        "\n",
        "    for k in jap_kw:\n",
        "        if k in clow:\n",
        "            found_japan = \"yes\"\n",
        "            break\n",
        "\n",
        "    if found_japan == \"yes\":\n",
        "        tone = \"Positive\" \n",
        "\n",
        "        for n in neg:\n",
        "            if n in clow:\n",
        "                tone = \"Negative\"\n",
        "                break\n",
        "\n",
        "        japcom.append((c, tone))\n",
        "\n",
        "for comment_text, tone_label in japcom:\n",
        "    print(\"Comment: '\" + comment_text + \"' -> Tone: \" + tone_label)\n"
      ]
    }
  ],
  "metadata": {
    "colab": {
      "provenance": []
    },
    "kernelspec": {
      "display_name": ".venv",
      "language": "python",
      "name": "python3"
    },
    "language_info": {
      "codemirror_mode": {
        "name": "ipython",
        "version": 3
      },
      "file_extension": ".py",
      "mimetype": "text/x-python",
      "name": "python",
      "nbconvert_exporter": "python",
      "pygments_lexer": "ipython3",
      "version": "3.13.3"
    }
  },
  "nbformat": 4,
  "nbformat_minor": 0
}
